{
  "nbformat": 4,
  "nbformat_minor": 0,
  "metadata": {
    "colab": {
      "provenance": []
    },
    "kernelspec": {
      "name": "python3",
      "display_name": "Python 3"
    },
    "language_info": {
      "name": "python"
    }
  },
  "cells": [
    {
      "cell_type": "code",
      "execution_count": 1,
      "metadata": {
        "colab": {
          "base_uri": "https://localhost:8080/"
        },
        "id": "IIF8I0B9s9dq",
        "outputId": "50dd49f7-8a1f-4fe1-e22e-52c5fccb246a"
      },
      "outputs": [
        {
          "output_type": "stream",
          "name": "stdout",
          "text": [
            "Mounted at /content/drive\n"
          ]
        }
      ],
      "source": [
        "# Mount Google Drive\n",
        "from google.colab import drive\n",
        "drive.mount('/content/drive')\n"
      ]
    },
    {
      "cell_type": "code",
      "source": [],
      "metadata": {
        "id": "RMNDyelIuGoD"
      },
      "execution_count": null,
      "outputs": []
    },
    {
      "cell_type": "markdown",
      "source": [
        "1) a)Difference between Counter.count and self._count:\n",
        "\n",
        "Counter.count: This is a class variable. It is shared among all instances of the Counter class. When any instance of the class modifies Counter.count, the change is reflected across all instances.\n",
        "\n",
        "            self._count: This is an instance variable. It is specific to each instance of the Counter class. Each object created from the Counter class will have its own self._count that can be modified independently of other instances. Think of it as a personal counter for each individual Counter object.\n",
        "\n",
        "b)What is the output of a.get_counts() and b.get_counts()?\n",
        "\n",
        "\t•Output: Instance count: 3, Class count: 3\n",
        "\t•Output: Instance count: 0, Class count: 3\n",
        "\n",
        "c)How does the increment method affect both the class and instance variables?\n",
        "\n",
        "\t•self._count (instance variable) for that particular instance is increased by 1. This only affects the instance that called the method (e.g., a in this case).\n",
        "\t•Counter.count (class variable) is also increased by 1. Since this is a class variable, the increment affects all instances of the Counter class. It’s like adding to a common total that everyone can see.\n"
      ],
      "metadata": {
        "id": "RlLX9S-k10-Q"
      }
    },
    {
      "cell_type": "code",
      "source": [
        "def compute_total(*values):\n",
        "    # Calculate the sum of all values passed as arguments\n",
        "    return sum(values)\n",
        "\n",
        "# Example usage with three arguments\n",
        "print(\"Total of 1, 2, 3 is:\", compute_total(1, 2, 3))\n",
        "# Output: Total of 1, 2, 3 is: 6\n",
        "\n",
        "# Example usage with four arguments\n",
        "print(\"Total of 4, 5, 6, 7 is:\", compute_total(4, 5, 6, 7))\n",
        "# Output: Total of 4, 5, 6, 7 is: 22\n"
      ],
      "metadata": {
        "colab": {
          "base_uri": "https://localhost:8080/"
        },
        "id": "aAsmWbH613sH",
        "outputId": "a50329b4-4571-4fd0-9499-1d43ccb3bedb"
      },
      "execution_count": 2,
      "outputs": [
        {
          "output_type": "stream",
          "name": "stdout",
          "text": [
            "Total of 1, 2, 3 is: 6\n",
            "Total of 4, 5, 6, 7 is: 22\n"
          ]
        }
      ]
    },
    {
      "cell_type": "code",
      "source": [
        "def first_word(words):\n",
        "    # Sort the list alphabetically\n",
        "    sorted_words = sorted(words)\n",
        "    # Return the first word in the sorted list\n",
        "    return sorted_words[0]\n",
        "\n",
        "# Example usage\n",
        "students = ['Mary', 'Zelda', 'Jimmy', 'Jack', 'Bartholomew', 'Gertrude']\n",
        "print(first_word(students))  # Output should be 'Bartholomew'"
      ],
      "metadata": {
        "colab": {
          "base_uri": "https://localhost:8080/"
        },
        "id": "WHm1-DRS24IE",
        "outputId": "43bb2c98-5d28-4a5c-d7c6-06f72af98f24"
      },
      "execution_count": 1,
      "outputs": [
        {
          "output_type": "stream",
          "name": "stdout",
          "text": [
            "Bartholomew\n"
          ]
        }
      ]
    },
    {
      "cell_type": "code",
      "source": [
        "class Worker:\n",
        "    # Class variables to keep track of the number of workers and total salary\n",
        "    total_workers = 0\n",
        "    total_salaries = 0\n",
        "\n",
        "    def __init__(self, first_name, last_name, salary_amount, dept):\n",
        "        # Instance variables\n",
        "        self.first_name = first_name\n",
        "        self.last_name = last_name\n",
        "        self.salary_amount = salary_amount\n",
        "        self.dept = dept\n",
        "        # Increment the total worker count and add salary amount whenever a new instance is created\n",
        "        Worker.total_workers += 1\n",
        "        Worker.total_salaries += salary_amount\n",
        "\n",
        "    @staticmethod\n",
        "    def average_salary():\n",
        "        # Calculate the average salary\n",
        "        if Worker.total_workers > 0:\n",
        "            return Worker.total_salaries / Worker.total_workers\n",
        "        else:\n",
        "            return 0\n",
        "\n",
        "# Subclass PermanentWorker inherits from Worker\n",
        "class PermanentWorker(Worker):\n",
        "    def __init__(self, first_name, last_name, salary_amount, dept):\n",
        "        # Call the constructor of the parent class\n",
        "        super().__init__(first_name, last_name, salary_amount, dept)\n",
        "\n",
        "# Creating instances of Worker and PermanentWorker\n",
        "worker1 = Worker(\"John\", \"Smith\", 50000, \"Engineering\")\n",
        "worker2 = Worker(\"Jane\", \"Doe\", 60000, \"Marketing\")\n",
        "permanent_worker1 = PermanentWorker(\"Alice\", \"Johnson\", 70000, \"Finance\")\n",
        "\n",
        "# Calling the member functions\n",
        "print(f\"Total Workers: {Worker.total_workers}\")\n",
        "print(f\"Average Salary: {Worker.average_salary()}\")\n"
      ],
      "metadata": {
        "colab": {
          "base_uri": "https://localhost:8080/"
        },
        "id": "IyejZRdA24Rm",
        "outputId": "4421abee-5e2c-446d-bdcb-388bb5f9f730"
      },
      "execution_count": 3,
      "outputs": [
        {
          "output_type": "stream",
          "name": "stdout",
          "text": [
            "Total Workers: 3\n",
            "Average Salary: 60000.0\n"
          ]
        }
      ]
    }
  ]
}