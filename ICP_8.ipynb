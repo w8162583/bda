{
  "nbformat": 4,
  "nbformat_minor": 0,
  "metadata": {
    "colab": {
      "provenance": []
    },
    "kernelspec": {
      "name": "python3",
      "display_name": "Python 3"
    },
    "language_info": {
      "name": "python"
    }
  },
  "cells": [
    {
      "cell_type": "code",
      "execution_count": 13,
      "metadata": {
        "colab": {
          "base_uri": "https://localhost:8080/"
        },
        "id": "pOZFXx9Xai7m",
        "outputId": "56dbe001-14ce-40e6-9685-f4d72e828c98"
      },
      "outputs": [
        {
          "output_type": "stream",
          "name": "stdout",
          "text": [
            "Using existing SparkContext\n"
          ]
        }
      ],
      "source": [
        "from pyspark import SparkContext, SparkConf\n",
        "\n",
        "# Check if a SparkContext already exists\n",
        "if 'sc' not in globals():\n",
        "    # Initialize SparkContext only if one doesn't exist\n",
        "    conf = SparkConf().setAppName(\"BigDataICP\").setMaster(\"local\")\n",
        "    sc = SparkContext(conf=conf)\n",
        "else:\n",
        "    # Reuse the existing SparkContext\n",
        "    print(\"Using existing SparkContext\")\n",
        "\n"
      ]
    },
    {
      "cell_type": "code",
      "source": [
        "rdd1 = sc.parallelize(range(1, 16))\n",
        "print(\"Task 1:\", rdd1.collect())\n"
      ],
      "metadata": {
        "colab": {
          "base_uri": "https://localhost:8080/"
        },
        "id": "Mdp46n6MbhD8",
        "outputId": "63107d0c-9431-46b2-9494-5330081938b9"
      },
      "execution_count": 14,
      "outputs": [
        {
          "output_type": "stream",
          "name": "stdout",
          "text": [
            "Task 1: [1, 2, 3, 4, 5, 6, 7, 8, 9, 10, 11, 12, 13, 14, 15]\n"
          ]
        }
      ]
    },
    {
      "cell_type": "code",
      "source": [
        "print(\"Elements in RDD:\", rdd1.collect())\n",
        "print(\"Number of Partitions:\", rdd.getNumPartitions())\n"
      ],
      "metadata": {
        "colab": {
          "base_uri": "https://localhost:8080/"
        },
        "id": "P2JSfXQubln0",
        "outputId": "7a10d863-4df7-4f60-c9b1-c9da9fd8c288"
      },
      "execution_count": 15,
      "outputs": [
        {
          "output_type": "stream",
          "name": "stdout",
          "text": [
            "Elements in RDD: [1, 2, 3, 4, 5, 6, 7, 8, 9, 10, 11, 12, 13, 14, 15]\n",
            "Number of Partitions: 2\n"
          ]
        }
      ]
    },
    {
      "cell_type": "code",
      "source": [
        "print(\"First Element in RDD:\", rdd1.first())\n"
      ],
      "metadata": {
        "colab": {
          "base_uri": "https://localhost:8080/"
        },
        "id": "o_2tWkeJb0bl",
        "outputId": "30d8666c-bb95-4a9e-85b3-4b2d31454755"
      },
      "execution_count": 16,
      "outputs": [
        {
          "output_type": "stream",
          "name": "stdout",
          "text": [
            "First Element in RDD: 1\n"
          ]
        }
      ]
    },
    {
      "cell_type": "code",
      "source": [
        "even_rdd = rdd1.filter(lambda x: x % 2 == 0)\n",
        "print(\"Even Elements:\", even_rdd.collect())\n"
      ],
      "metadata": {
        "colab": {
          "base_uri": "https://localhost:8080/"
        },
        "id": "LzHJEdTWb4IK",
        "outputId": "cf221b56-20f6-4cc0-f4ed-1e1a9ea027b8"
      },
      "execution_count": 17,
      "outputs": [
        {
          "output_type": "stream",
          "name": "stdout",
          "text": [
            "Even Elements: [2, 4, 6, 8, 10, 12, 14]\n"
          ]
        }
      ]
    },
    {
      "cell_type": "code",
      "source": [
        "squared_rdd = rdd1.map(lambda x: x**2)\n",
        "print(\"Squared Elements:\", squared_rdd.collect())\n"
      ],
      "metadata": {
        "colab": {
          "base_uri": "https://localhost:8080/"
        },
        "id": "ErEKc5ABb57P",
        "outputId": "6247acb7-3e2f-40ab-eaf2-b3e9d82e1b1a"
      },
      "execution_count": 18,
      "outputs": [
        {
          "output_type": "stream",
          "name": "stdout",
          "text": [
            "Squared Elements: [1, 4, 9, 16, 25, 36, 49, 64, 81, 100, 121, 144, 169, 196, 225]\n"
          ]
        }
      ]
    },
    {
      "cell_type": "code",
      "source": [
        "sum_elements = rdd1.reduce(lambda x, y: x + y)\n",
        "print(\"Sum of Elements:\", sum_elements)\n"
      ],
      "metadata": {
        "colab": {
          "base_uri": "https://localhost:8080/"
        },
        "id": "FZyadcyucD5H",
        "outputId": "63cd6932-af1b-4b6a-e849-22b00521f8f4"
      },
      "execution_count": 19,
      "outputs": [
        {
          "output_type": "stream",
          "name": "stdout",
          "text": [
            "Sum of Elements: 120\n"
          ]
        }
      ]
    },
    {
      "cell_type": "code",
      "source": [
        "rdd1.saveAsTextFile(\"rdd_output\")\n"
      ],
      "metadata": {
        "id": "oVooGctAcOEd"
      },
      "execution_count": 20,
      "outputs": []
    },
    {
      "cell_type": "code",
      "source": [
        "rdd2 = sc.parallelize(range(16, 21))\n",
        "rdd_union = rdd1.union(rdd2)\n",
        "print(\"Task 8 - Union of RDDs:\", rdd_union.collect())\n"
      ],
      "metadata": {
        "colab": {
          "base_uri": "https://localhost:8080/"
        },
        "id": "z1ThIwCmcZiX",
        "outputId": "f5d5dbf9-53fc-4e9f-9700-04a48961dac4"
      },
      "execution_count": 21,
      "outputs": [
        {
          "output_type": "stream",
          "name": "stdout",
          "text": [
            "Task 8 - Union of RDDs: [1, 2, 3, 4, 5, 6, 7, 8, 9, 10, 11, 12, 13, 14, 15, 16, 17, 18, 19, 20]\n"
          ]
        }
      ]
    },
    {
      "cell_type": "code",
      "source": [
        "rdd_cartesian = rdd1.cartesian(rdd2)\n",
        "print(\"Task 9 - Cartesian product:\", rdd_cartesian.collect())\n"
      ],
      "metadata": {
        "colab": {
          "base_uri": "https://localhost:8080/"
        },
        "id": "HrugraOdch35",
        "outputId": "ce2831d2-12f4-48cb-9968-efb54ee98878"
      },
      "execution_count": 22,
      "outputs": [
        {
          "output_type": "stream",
          "name": "stdout",
          "text": [
            "Task 9 - Cartesian product: [(1, 16), (1, 17), (2, 16), (3, 16), (2, 17), (3, 17), (4, 16), (5, 16), (6, 16), (7, 16), (4, 17), (5, 17), (6, 17), (7, 17), (1, 18), (1, 19), (1, 20), (2, 18), (3, 18), (2, 19), (2, 20), (3, 19), (3, 20), (4, 18), (5, 18), (6, 18), (7, 18), (4, 19), (4, 20), (5, 19), (5, 20), (6, 19), (6, 20), (7, 19), (7, 20), (8, 16), (8, 17), (9, 16), (10, 16), (9, 17), (10, 17), (11, 16), (12, 16), (13, 16), (14, 16), (11, 17), (12, 17), (13, 17), (14, 17), (15, 16), (15, 17), (8, 18), (8, 19), (8, 20), (9, 18), (10, 18), (9, 19), (9, 20), (10, 19), (10, 20), (11, 18), (12, 18), (13, 18), (14, 18), (11, 19), (11, 20), (12, 19), (12, 20), (13, 19), (13, 20), (14, 19), (14, 20), (15, 18), (15, 19), (15, 20)]\n"
          ]
        }
      ]
    },
    {
      "cell_type": "code",
      "source": [
        "dict_data = {'a': 1, 'b': 2, 'c': 3}\n",
        "rdd_dict = sc.parallelize(dict_data.items())\n",
        "print(\"Task 10 - RDD from dictionary:\", rdd_dict.collect())\n"
      ],
      "metadata": {
        "colab": {
          "base_uri": "https://localhost:8080/"
        },
        "id": "Tk_g53J2cl0I",
        "outputId": "f3e7b287-6530-4814-ef6e-50664d6704d4"
      },
      "execution_count": 23,
      "outputs": [
        {
          "output_type": "stream",
          "name": "stdout",
          "text": [
            "Task 10 - RDD from dictionary: [('a', 1), ('b', 2), ('c', 3)]\n"
          ]
        }
      ]
    },
    {
      "cell_type": "code",
      "source": [
        "rdd_with_duplicates = sc.parallelize([1, 2, 2, 3, 3, 3])\n",
        "unique_counts = rdd_with_duplicates.countByValue()\n",
        "print(\"Task 11 - Unique value counts:\", unique_counts)"
      ],
      "metadata": {
        "colab": {
          "base_uri": "https://localhost:8080/"
        },
        "id": "WvdfOSGgifAC",
        "outputId": "e071ce3c-34e1-4a8a-e08d-9aa744700529"
      },
      "execution_count": 24,
      "outputs": [
        {
          "output_type": "stream",
          "name": "stdout",
          "text": [
            "Task 11 - Unique value counts: defaultdict(<class 'int'>, {1: 1, 2: 2, 3: 3})\n"
          ]
        }
      ]
    },
    {
      "cell_type": "code",
      "source": [
        "rdd_text_files = sc.textFile(\"/content/rdd_output,/content/squared_rdd_output\")\n",
        "print(\"Task 12 - Combined text files RDD:\", rdd_text_files.collect())"
      ],
      "metadata": {
        "colab": {
          "base_uri": "https://localhost:8080/"
        },
        "id": "34ht8qRGik24",
        "outputId": "79997a6f-e450-473d-aea6-d21a9ca25830"
      },
      "execution_count": 28,
      "outputs": [
        {
          "output_type": "stream",
          "name": "stdout",
          "text": [
            "Task 12 - Combined text files RDD: ['8', '9', '10', '11', '12', '13', '14', '15', '1', '2', '3', '4', '5', '6', '7', '64', '81', '100', '121', '144', '169', '196', '225', '1', '4', '9', '16', '25', '36', '49']\n"
          ]
        }
      ]
    },
    {
      "cell_type": "code",
      "source": [
        "print(\"First 5 lines of RDD:\", rdd_text_files.take(5))"
      ],
      "metadata": {
        "colab": {
          "base_uri": "https://localhost:8080/"
        },
        "id": "kRu9Q-TdkL6K",
        "outputId": "a2b4c043-bb71-40ab-b041-874d68dc2e3a"
      },
      "execution_count": 31,
      "outputs": [
        {
          "output_type": "stream",
          "name": "stdout",
          "text": [
            "First 5 lines of RDD: ['8', '9', '10', '11', '12']\n"
          ]
        }
      ]
    },
    {
      "cell_type": "code",
      "source": [
        "from pyspark.sql import SQLContext\n",
        "sqlContext = SQLContext(sc)"
      ],
      "metadata": {
        "colab": {
          "base_uri": "https://localhost:8080/"
        },
        "id": "ZFJ8fBG8k4ay",
        "outputId": "b8fe69ba-4477-4fbb-e790-bc9823db80d4"
      },
      "execution_count": 32,
      "outputs": [
        {
          "output_type": "stream",
          "name": "stderr",
          "text": [
            "/usr/local/lib/python3.10/dist-packages/pyspark/sql/context.py:113: FutureWarning: Deprecated in 3.0.0. Use SparkSession.builder.getOrCreate() instead.\n",
            "  warnings.warn(\n"
          ]
        }
      ]
    },
    {
      "cell_type": "code",
      "source": [
        "data = [(\"veda\", 1), (\"agastya\", 2), (\"darshana\", 3)]\n",
        "df = sqlContext.createDataFrame(data, [\"Name\", \"ID\"])\n",
        "df.show()\n"
      ],
      "metadata": {
        "colab": {
          "base_uri": "https://localhost:8080/"
        },
        "id": "k078MnhbnxlN",
        "outputId": "58f52164-b187-4aed-a518-9a0c773b7a79"
      },
      "execution_count": 33,
      "outputs": [
        {
          "output_type": "stream",
          "name": "stdout",
          "text": [
            "+--------+---+\n",
            "|    Name| ID|\n",
            "+--------+---+\n",
            "|    veda|  1|\n",
            "| agastya|  2|\n",
            "|darshana|  3|\n",
            "+--------+---+\n",
            "\n"
          ]
        }
      ]
    },
    {
      "cell_type": "markdown",
      "source": [
        " **RDDs** are the most basic option, with no schema and minimal optimizations, making them slower and requiring more memory. They’re fault-tolerant and type-safe, catching errors early, but lack SQL support and are generally harder to use. **DataFrames**, on the other hand, are structured like tables with schemas, which allows them to be optimized for faster performance. They support SQL queries and are high-level, making them easier to work with, though they detect errors at runtime. **Datasets** combine the best of both, offering the structure and SQL support of DataFrames, with added type safety and the highest performance due to advanced optimizations. They’re also the most memory-efficient, making them ideal for complex application"
      ],
      "metadata": {
        "id": "-R7Djv383Hkv"
      }
    }
  ]
}