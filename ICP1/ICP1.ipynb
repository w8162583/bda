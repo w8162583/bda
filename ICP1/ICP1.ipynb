{
  "nbformat": 4,
  "nbformat_minor": 0,
  "metadata": {
    "colab": {
      "provenance": []
    },
    "kernelspec": {
      "name": "python3",
      "display_name": "Python 3"
    },
    "language_info": {
      "name": "python"
    }
  },
  "cells": [
    {
      "cell_type": "code",
      "execution_count": null,
      "metadata": {
        "colab": {
          "base_uri": "https://localhost:8080/"
        },
        "id": "o4ZCZcctFH5w",
        "outputId": "a56b436c-3c9c-486f-eed8-a640a3eb6fd7"
      },
      "outputs": [
        {
          "output_type": "stream",
          "name": "stdout",
          "text": [
            "Mounted at /content/drive\n"
          ]
        }
      ],
      "source": [
        "# Mount Google Drive\n",
        "from google.colab import drive\n",
        "drive.mount('/content/drive')"
      ]
    },
    {
      "cell_type": "code",
      "source": [
        "# Get a string from the user\n",
        "user_input = input(\"Please enter a string: \")\n",
        "\n",
        "# Remove vowels from the string (a, e, i, o, u)\n",
        "no_vowels = ''.join([char for char in user_input if char.lower() not in 'aeiou'])\n",
        "\n",
        "# Reverse the modified string\n",
        "reversed_output = no_vowels[::-1]\n",
        "\n",
        "# Display the final result\n",
        "print(\"Processed result:\", reversed_output)\n"
      ],
      "metadata": {
        "colab": {
          "base_uri": "https://localhost:8080/"
        },
        "id": "QJ5l-1OwGpYi",
        "outputId": "c8796406-bbcd-4c0a-a991-a37f8139c00f"
      },
      "execution_count": 4,
      "outputs": [
        {
          "output_type": "stream",
          "name": "stdout",
          "text": [
            "Please enter a string: python\n",
            "Processed result: nhtyp\n"
          ]
        }
      ]
    },
    {
      "cell_type": "code",
      "source": [
        "# Prompt the user to enter two numbers\n",
        "first_num = float(input(\"Enter the first number: \"))\n",
        "second_num = float(input(\"Enter the second number: \"))\n",
        "\n",
        "# Carry out basic arithmetic operations\n",
        "sum_result = first_num + second_num\n",
        "difference = first_num - second_num\n",
        "product = first_num * second_num\n",
        "\n",
        "# Handle division safely to avoid dividing by zero\n",
        "if second_num != 0:\n",
        "    quotient = first_num / second_num\n",
        "else:\n",
        "    quotient = \"Cannot divide by zero\"\n",
        "\n",
        "# Display the results\n",
        "print(\"Sum:\", sum_result)\n",
        "print(\"Difference:\", difference)\n",
        "print(\"Product:\", product)\n",
        "print(\"Quotient:\", quotient)\n"
      ],
      "metadata": {
        "colab": {
          "base_uri": "https://localhost:8080/"
        },
        "id": "xmjj5cJeP3BM",
        "outputId": "92bb0401-5ac6-45c9-9ea4-2dfbee166239"
      },
      "execution_count": 6,
      "outputs": [
        {
          "output_type": "stream",
          "name": "stdout",
          "text": [
            "Enter the first number: 6\n",
            "Enter the second number: 8\n",
            "Sum: 14.0\n",
            "Difference: -2.0\n",
            "Product: 48.0\n",
            "Quotient: 0.75\n"
          ]
        }
      ]
    },
    {
      "cell_type": "code",
      "source": [
        "# Prompt the user to enter a sentence\n",
        "user_text = input(\"Enter a sentence: \")\n",
        "\n",
        "# Replace each occurrence of 'python' with 'pythons'\n",
        "modified_text = user_text.replace(\"python\", \"pythons\")\n",
        "\n",
        "# Display the modified sentence\n",
        "print(\"Updated sentence:\", modified_text)"
      ],
      "metadata": {
        "colab": {
          "base_uri": "https://localhost:8080/"
        },
        "id": "DmCNn6Z9QXSp",
        "outputId": "63b733bd-f5e7-4d77-a838-0d4a78aad05b"
      },
      "execution_count": 7,
      "outputs": [
        {
          "output_type": "stream",
          "name": "stdout",
          "text": [
            "Enter a sentence: i love playing with python\n",
            "Updated sentence: i love playing with pythons\n"
          ]
        }
      ]
    },
    {
      "cell_type": "code",
      "source": [
        "# Ask the user to enter the class score\n",
        "score = float(input(\"Please enter your class score: \"))\n",
        "\n",
        "# Determine the grade based on the given score\n",
        "if score >= 85:\n",
        "    grade = 'A'\n",
        "elif 75 <= score < 85:\n",
        "    grade = 'B'\n",
        "elif 65 <= score < 75:\n",
        "    grade = 'C'\n",
        "elif 55 <= score < 65:\n",
        "    grade = 'D'\n",
        "else:\n",
        "    grade = 'F'\n",
        "\n",
        "# Display the assigned grade\n",
        "print(\"Your grade is:\", grade)\n"
      ],
      "metadata": {
        "colab": {
          "base_uri": "https://localhost:8080/"
        },
        "id": "nGyVWjCZSWrI",
        "outputId": "d49ed65b-622e-4fba-fbdd-d69550d10226"
      },
      "execution_count": 8,
      "outputs": [
        {
          "output_type": "stream",
          "name": "stdout",
          "text": [
            "Please enter your class score: 67\n",
            "Your grade is: C\n"
          ]
        }
      ]
    },
    {
      "cell_type": "code",
      "source": [
        "# Define a list with various data types\n",
        "elements = [23, 'Python', 23.98]\n",
        "\n",
        "# Display the original list\n",
        "print(\"Original list:\", elements)\n",
        "\n",
        "# Create a new list that contains the types of each element in the original list\n",
        "type_list = [type(item) for item in elements]\n",
        "\n",
        "# Display the list of types\n",
        "print(\"List of types:\", type_list)\n"
      ],
      "metadata": {
        "colab": {
          "base_uri": "https://localhost:8080/"
        },
        "id": "vVwaBuc5UN3j",
        "outputId": "183e3ec3-1b96-4ff1-9be4-801afd35537c"
      },
      "execution_count": 10,
      "outputs": [
        {
          "output_type": "stream",
          "name": "stdout",
          "text": [
            "Original list: [23, 'Python', 23.98]\n",
            "List of types: [<class 'int'>, <class 'str'>, <class 'float'>]\n"
          ]
        }
      ]
    },
    {
      "cell_type": "code",
      "source": [
        "# Initialize sets and list\n",
        "tech_companies = {'Facebook', 'Google', 'Microsoft', 'Apple', 'IBM', 'Oracle', 'Amazon'}\n",
        "set1 = {19, 22, 24, 20, 25, 26}\n",
        "set2 = {19, 22, 20, 25, 26, 24, 28, 27}\n",
        "ages = [22, 19, 24, 25, 26, 24, 25, 24]\n",
        "\n",
        "# 1. Determine the number of companies in tech_companies\n",
        "num_tech_companies = len(tech_companies)\n",
        "print(\"Number of tech companies:\", num_tech_companies)\n",
        "\n",
        "# 2. Add 'Twitter' to the tech_companies set\n",
        "tech_companies.add('Twitter')\n",
        "print(\"Tech companies after adding Twitter:\", tech_companies)\n",
        "\n",
        "# 3. Add multiple companies to the tech_companies set at once\n",
        "tech_companies.update(['Snapchat', 'TikTok', 'Spotify'])\n",
        "print(\"Tech companies after adding multiple companies:\", tech_companies)\n",
        "\n",
        "# 4. Remove 'Oracle' from the tech_companies set\n",
        "tech_companies.discard('Oracle')  # Using discard to avoid KeyError if 'Oracle' is not present\n",
        "print(\"Tech companies after removing a company:\", tech_companies)\n",
        "\n",
        "# 5. Difference between remove and discard:\n",
        "# - remove() raises a KeyError if the element is not present in the set.\n",
        "# - discard() does not raise an error if the element is not present.\n",
        "\n",
        "# 6. Combine set1 and set2\n",
        "combined_set = set1.union(set2)\n",
        "print(\"Combined set (set1 union set2):\", combined_set)\n",
        "\n",
        "# 7. Find common elements between set1 and set2\n",
        "common_elements = set1.intersection(set2)\n",
        "print(\"Common elements between set1 and set2:\", common_elements)\n",
        "\n",
        "# 8. Check if set1 is a subset of set2\n",
        "is_subset = set1.issubset(set2)\n",
        "print(\"Is set1 a subset of set2:\", is_subset)\n",
        "\n",
        "# 9. Check if set1 and set2 are disjoint sets\n",
        "are_disjoint = set1.isdisjoint(set2)\n",
        "print(\"Are set1 and set2 disjoint:\", are_disjoint)\n",
        "\n",
        "# 10. Union of set1 with set2 and set2 with set1\n",
        "set1_union_set2 = set1.union(set2)\n",
        "set2_union_set1 = set2.union(set1)\n",
        "print(\"Set1 union set2:\", set1_union_set2)\n",
        "print(\"Set2 union set1:\", set2_union_set1)\n",
        "\n",
        "# 11. Find the symmetric difference between set1 and set2\n",
        "symmetric_diff = set1.symmetric_difference(set2)\n",
        "print(\"Symmetric difference between set1 and set2:\", symmetric_diff)\n",
        "\n",
        "# 12. Delete the sets completely\n",
        "del tech_companies\n",
        "del set1\n",
        "del set2\n",
        "\n",
        "# 13. Convert ages list to a set and compare the length of the list and the set\n",
        "ages_set = set(ages)\n",
        "print(\"Length of ages list:\", len(ages))\n",
        "print(\"Length of ages set:\", len(ages_set))\n"
      ],
      "metadata": {
        "colab": {
          "base_uri": "https://localhost:8080/"
        },
        "id": "_MxXplDXUsqu",
        "outputId": "3c0ef440-bbe4-4ae3-bb0b-4414a8997cd0"
      },
      "execution_count": 11,
      "outputs": [
        {
          "output_type": "stream",
          "name": "stdout",
          "text": [
            "Number of tech companies: 7\n",
            "Tech companies after adding Twitter: {'Apple', 'Amazon', 'Microsoft', 'Google', 'Facebook', 'Twitter', 'Oracle', 'IBM'}\n",
            "Tech companies after adding multiple companies: {'Apple', 'Amazon', 'Spotify', 'IBM', 'Google', 'Facebook', 'Twitter', 'Microsoft', 'Oracle', 'Snapchat', 'TikTok'}\n",
            "Tech companies after removing a company: {'Apple', 'Amazon', 'Spotify', 'IBM', 'Google', 'Facebook', 'Twitter', 'Microsoft', 'Snapchat', 'TikTok'}\n",
            "Combined set (set1 union set2): {19, 20, 22, 24, 25, 26, 27, 28}\n",
            "Common elements between set1 and set2: {19, 20, 22, 24, 25, 26}\n",
            "Is set1 a subset of set2: True\n",
            "Are set1 and set2 disjoint: False\n",
            "Set1 union set2: {19, 20, 22, 24, 25, 26, 27, 28}\n",
            "Set2 union set1: {19, 20, 22, 24, 25, 26, 27, 28}\n",
            "Symmetric difference between set1 and set2: {27, 28}\n",
            "Length of ages list: 8\n",
            "Length of ages set: 5\n"
          ]
        }
      ]
    }
  ]
}